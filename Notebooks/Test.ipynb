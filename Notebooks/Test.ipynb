{
 "cells": [
  {
   "cell_type": "markdown",
   "metadata": {},
   "source": [
    "# Libraries "
   ]
  },
  {
   "cell_type": "code",
   "execution_count": null,
   "metadata": {},
   "outputs": [],
   "source": [
    "pip install --upgrade https://https://github.com/ThiagueraBarao/jupyterDjangoORM/main"
   ]
  },
  {
   "cell_type": "markdown",
   "metadata": {},
   "source": [
    "# Functions"
   ]
  },
  {
   "cell_type": "code",
   "execution_count": null,
   "metadata": {},
   "outputs": [],
   "source": [
    "def QueryToJson(query,ParseJsonFlag = True):\n",
    "    '''\n",
    "    Returns JSON response from query requested.\n",
    "\n",
    "            Parameters:\n",
    "                    query (obj): Django ORM query. \n",
    "                    Examples: \n",
    "                        1. Model.objects.all()\n",
    "                        2. Model.objects.filter(email='mail@mailprovider.com'))\n",
    "                        3. Model.objects.filter(valor__gt=100))\n",
    "\n",
    "                    ParseJsonFlag (Boolean): Bolean to mark Json parse option or not\n",
    "                    \n",
    "            Returns:\n",
    "                    JSON response (str): Python String with JSON query response\n",
    "    '''\n",
    "    \n",
    "    #Import Libraries\n",
    "    import json\n",
    "    from django.core import serializers\n",
    "    \n",
    "    #Serialize\n",
    "    query_json = serializers.serialize('json', query)\n",
    "    \n",
    "    #Parse Json Flag\n",
    "    if ParseJsonFlag == True:\n",
    "        \n",
    "        #Parse Json\n",
    "        query_json_parse = json.loads(query_json)\n",
    "        \n",
    "        #Return\n",
    "        return query_json_parse\n",
    "    \n",
    "    else:\n",
    "\n",
    "        #Return\n",
    "        return query_json\n",
    "\n",
    "def ModelToPandasDf(query,interestField='fields',pkField='pk',idRename='ID'):\n",
    "    '''\n",
    "    Returns pandas dataframe from query requested.\n",
    "\n",
    "            Parameters:\n",
    "                    query (obj): Django ORM query. \n",
    "                        Examples: \n",
    "                            1. Model.objects.all()\n",
    "                            2. Model.objects.filter(email='mail@mailprovider.com'))\n",
    "                            3. Model.objects.filter(valor__gt=100))\n",
    "                    interestField: Django response fields label\n",
    "                    pkField (str): Django ID Label\n",
    "                    idRename (str): DataFrame Index Label\n",
    "\n",
    "\n",
    "            Returns:\n",
    "                    Pandas DataFrame (obj): Pandas Dataframe response from query response\n",
    "    '''\n",
    "    \n",
    "    #Import Libraries\n",
    "    import pandas as pd\n",
    "    import json\n",
    "    \n",
    "    # Django ORM Query Request\n",
    "    queryToJson = QueryToJson(query)\n",
    "    \n",
    "    #Transform in first pandas dataframe\n",
    "    queryToJsonPdDf = pd.DataFrame.from_records(queryToJson)\n",
    "    \n",
    "    #Get interest field\n",
    "    queryToJsonPdDfInterestField = queryToJsonPdDf[interestField]\n",
    "    \n",
    "    #Transform to Fields DataFrame\n",
    "    df = pd.DataFrame.from_records(queryToJsonPdDfInterestField)\n",
    "    \n",
    "    #Insert Index\n",
    "    df[idRename] = queryToJsonPdDf[pkField]\n",
    "    \n",
    "    #Df Set Index\n",
    "    df.set_index(idRename,inplace=True)\n",
    "    \n",
    "    #Return\n",
    "    return df"
   ]
  },
  {
   "cell_type": "markdown",
   "metadata": {},
   "source": [
    "# Models"
   ]
  },
  {
   "cell_type": "code",
   "execution_count": null,
   "metadata": {},
   "outputs": [],
   "source": [
    "QueryToJson(NEWSLETTER.objects.filter(id__gt=31))"
   ]
  },
  {
   "cell_type": "code",
   "execution_count": null,
   "metadata": {},
   "outputs": [],
   "source": [
    "ModelToPandasDf(NEWSLETTER.objects.filter(id__gt=31))"
   ]
  },
  {
   "cell_type": "code",
   "execution_count": null,
   "metadata": {},
   "outputs": [],
   "source": [
    "ModelToPandasDf(DEPOIMENTOS.objects.all()).head()"
   ]
  },
  {
   "cell_type": "code",
   "execution_count": null,
   "metadata": {},
   "outputs": [],
   "source": [
    "from ponto_eletronico.models import RegisterPoint\n",
    "from thiagocarmonunes.models import DEPOIMENTOS\n",
    "import thiagocarmonunes.models"
   ]
  },
  {
   "cell_type": "code",
   "execution_count": null,
   "metadata": {},
   "outputs": [],
   "source": [
    "ModelToPandasDf(DEPOIMENTOS.objects.all()).head()"
   ]
  },
  {
   "cell_type": "code",
   "execution_count": null,
   "metadata": {},
   "outputs": [],
   "source": [
    "ModelToPandasDf(CONTATO.objects.all()).head()"
   ]
  }
 ],
 "metadata": {
  "hide_input": false,
  "kernelspec": {
   "display_name": "Django Shell-Plus",
   "language": "python",
   "name": "django_extensions"
  },
  "language_info": {
   "codemirror_mode": {
    "name": "ipython",
    "version": 3
   },
   "file_extension": ".py",
   "mimetype": "text/x-python",
   "name": "python",
   "nbconvert_exporter": "python",
   "pygments_lexer": "ipython3",
   "version": "3.7.1"
  }
 },
 "nbformat": 4,
 "nbformat_minor": 2
}
