{
 "cells": [
  {
   "cell_type": "markdown",
   "metadata": {},
   "source": [
    "# Install Package "
   ]
  },
  {
   "cell_type": "code",
   "execution_count": null,
   "metadata": {},
   "outputs": [],
   "source": [
    "!pip install --upgrade https://github.com/ThiagueraBarao/jupyterDjangoORM"
   ]
  },
  {
   "cell_type": "code",
   "execution_count": 4,
   "metadata": {},
   "outputs": [
    {
     "name": "stdout",
     "output_type": "stream",
     "text": [
      "Collecting https://github.com/ThiagueraBarao/jupyterDjangoORM/archive/main.zip\n",
      "  Downloading https://github.com/ThiagueraBarao/jupyterDjangoORM/archive/main.zip\n",
      "Requirement already satisfied (use --upgrade to upgrade): jupyterDjangoORM==0.0.1 from https://github.com/ThiagueraBarao/jupyterDjangoORM/archive/main.zip in c:\\users\\thiag\\src\\jupyterdjangoorm\n",
      "Requirement already satisfied: Django>=3.0.3 in c:\\users\\thiag\\anaconda3\\lib\\site-packages (from jupyterDjangoORM==0.0.1) (3.0.7)\n",
      "Requirement already satisfied: django-extensions>=3.0.9 in c:\\users\\thiag\\anaconda3\\lib\\site-packages (from jupyterDjangoORM==0.0.1) (3.0.9)\n",
      "Requirement already satisfied: pandas>=0.23.4 in c:\\users\\thiag\\anaconda3\\lib\\site-packages (from jupyterDjangoORM==0.0.1) (0.23.4)\n",
      "Requirement already satisfied: sqlparse>=0.2.2 in c:\\users\\thiag\\anaconda3\\lib\\site-packages (from Django>=3.0.3->jupyterDjangoORM==0.0.1) (0.3.1)\n",
      "Requirement already satisfied: pytz in c:\\users\\thiag\\anaconda3\\lib\\site-packages (from Django>=3.0.3->jupyterDjangoORM==0.0.1) (2018.7)\n",
      "Requirement already satisfied: asgiref~=3.2 in c:\\users\\thiag\\anaconda3\\lib\\site-packages (from Django>=3.0.3->jupyterDjangoORM==0.0.1) (3.2.10)\n",
      "Requirement already satisfied: python-dateutil>=2.5.0 in c:\\users\\thiag\\anaconda3\\lib\\site-packages (from pandas>=0.23.4->jupyterDjangoORM==0.0.1) (2.7.5)\n",
      "Requirement already satisfied: numpy>=1.9.0 in c:\\users\\thiag\\anaconda3\\lib\\site-packages (from pandas>=0.23.4->jupyterDjangoORM==0.0.1) (1.18.5)\n",
      "Requirement already satisfied: six>=1.5 in c:\\users\\thiag\\appdata\\roaming\\python\\python37\\site-packages (from python-dateutil>=2.5.0->pandas>=0.23.4->jupyterDjangoORM==0.0.1) (1.15.0)\n",
      "Building wheels for collected packages: jupyterDjangoORM\n",
      "  Building wheel for jupyterDjangoORM (setup.py): started\n",
      "  Building wheel for jupyterDjangoORM (setup.py): finished with status 'done'\n",
      "  Created wheel for jupyterDjangoORM: filename=jupyterDjangoORM-0.0.1-py3-none-any.whl size=3917 sha256=bd632e908f8b7dab8735dd334adc8d9d53bc4015e2405801461c9be3dd214a51\n",
      "  Stored in directory: C:\\Users\\thiag\\AppData\\Local\\Temp\\pip-ephem-wheel-cache-5y7c5ylv\\wheels\\b9\\a4\\66\\ca878d00b914003553786a1994fc0873e6c0f6127e9a748ec5\n",
      "Successfully built jupyterDjangoORM\n"
     ]
    }
   ],
   "source": [
    "!pip install https://github.com/ThiagueraBarao/jupyterDjangoORM/archive/main.zip"
   ]
  },
  {
   "cell_type": "markdown",
   "metadata": {},
   "source": [
    "# Load Library"
   ]
  },
  {
   "cell_type": "code",
   "execution_count": 6,
   "metadata": {},
   "outputs": [
    {
     "ename": "ModuleNotFoundError",
     "evalue": "No module named 'jupyterDjangoORM'",
     "output_type": "error",
     "traceback": [
      "\u001b[1;31m---------------------------------------------------------------------------\u001b[0m",
      "\u001b[1;31mModuleNotFoundError\u001b[0m                       Traceback (most recent call last)",
      "\u001b[1;32m<ipython-input-6-9742911564be>\u001b[0m in \u001b[0;36m<module>\u001b[1;34m\u001b[0m\n\u001b[1;32m----> 1\u001b[1;33m \u001b[1;32mimport\u001b[0m \u001b[0mjupyterDjangoORM\u001b[0m\u001b[1;33m\u001b[0m\u001b[1;33m\u001b[0m\u001b[0m\n\u001b[0m",
      "\u001b[1;31mModuleNotFoundError\u001b[0m: No module named 'jupyterDjangoORM'"
     ]
    }
   ],
   "source": [
    "import jupyterDjangoORM"
   ]
  },
  {
   "cell_type": "code",
   "execution_count": null,
   "metadata": {},
   "outputs": [],
   "source": [
    "QueryToJson()"
   ]
  },
  {
   "cell_type": "markdown",
   "metadata": {},
   "source": [
    "# Functions"
   ]
  },
  {
   "cell_type": "code",
   "execution_count": null,
   "metadata": {},
   "outputs": [],
   "source": [
    "def QueryToJson(query,ParseJsonFlag = True):\n",
    "    '''\n",
    "    Returns JSON response from query requested.\n",
    "\n",
    "            Parameters:\n",
    "                    query (obj): Django ORM query. \n",
    "                    Examples: \n",
    "                        1. Model.objects.all()\n",
    "                        2. Model.objects.filter(email='mail@mailprovider.com'))\n",
    "                        3. Model.objects.filter(valor__gt=100))\n",
    "\n",
    "                    ParseJsonFlag (Boolean): Bolean to mark Json parse option or not\n",
    "                    \n",
    "            Returns:\n",
    "                    JSON response (str): Python String with JSON query response\n",
    "    '''\n",
    "    \n",
    "    #Import Libraries\n",
    "    import json\n",
    "    from django.core import serializers\n",
    "    \n",
    "    #Serialize\n",
    "    query_json = serializers.serialize('json', query)\n",
    "    \n",
    "    #Parse Json Flag\n",
    "    if ParseJsonFlag == True:\n",
    "        \n",
    "        #Parse Json\n",
    "        query_json_parse = json.loads(query_json)\n",
    "        \n",
    "        #Return\n",
    "        return query_json_parse\n",
    "    \n",
    "    else:\n",
    "\n",
    "        #Return\n",
    "        return query_json\n",
    "\n",
    "def ModelToPandasDf(query,interestField='fields',pkField='pk',idRename='ID'):\n",
    "    '''\n",
    "    Returns pandas dataframe from query requested.\n",
    "\n",
    "            Parameters:\n",
    "                    query (obj): Django ORM query. \n",
    "                        Examples: \n",
    "                            1. Model.objects.all()\n",
    "                            2. Model.objects.filter(email='mail@mailprovider.com'))\n",
    "                            3. Model.objects.filter(valor__gt=100))\n",
    "                    interestField: Django response fields label\n",
    "                    pkField (str): Django ID Label\n",
    "                    idRename (str): DataFrame Index Label\n",
    "\n",
    "\n",
    "            Returns:\n",
    "                    Pandas DataFrame (obj): Pandas Dataframe response from query response\n",
    "    '''\n",
    "    \n",
    "    #Import Libraries\n",
    "    import pandas as pd\n",
    "    import json\n",
    "    \n",
    "    # Django ORM Query Request\n",
    "    queryToJson = QueryToJson(query)\n",
    "    \n",
    "    #Transform in first pandas dataframe\n",
    "    queryToJsonPdDf = pd.DataFrame.from_records(queryToJson)\n",
    "    \n",
    "    #Get interest field\n",
    "    queryToJsonPdDfInterestField = queryToJsonPdDf[interestField]\n",
    "    \n",
    "    #Transform to Fields DataFrame\n",
    "    df = pd.DataFrame.from_records(queryToJsonPdDfInterestField)\n",
    "    \n",
    "    #Insert Index\n",
    "    df[idRename] = queryToJsonPdDf[pkField]\n",
    "    \n",
    "    #Df Set Index\n",
    "    df.set_index(idRename,inplace=True)\n",
    "    \n",
    "    #Return\n",
    "    return df"
   ]
  },
  {
   "cell_type": "markdown",
   "metadata": {},
   "source": [
    "# Models"
   ]
  },
  {
   "cell_type": "code",
   "execution_count": null,
   "metadata": {},
   "outputs": [],
   "source": [
    "QueryToJson(NEWSLETTER.objects.filter(id__gt=31))"
   ]
  },
  {
   "cell_type": "code",
   "execution_count": null,
   "metadata": {},
   "outputs": [],
   "source": [
    "ModelToPandasDf(NEWSLETTER.objects.filter(id__gt=31))"
   ]
  },
  {
   "cell_type": "code",
   "execution_count": null,
   "metadata": {},
   "outputs": [],
   "source": [
    "ModelToPandasDf(DEPOIMENTOS.objects.all()).head()"
   ]
  },
  {
   "cell_type": "code",
   "execution_count": null,
   "metadata": {},
   "outputs": [],
   "source": [
    "from ponto_eletronico.models import RegisterPoint\n",
    "from thiagocarmonunes.models import DEPOIMENTOS\n",
    "import thiagocarmonunes.models"
   ]
  },
  {
   "cell_type": "code",
   "execution_count": null,
   "metadata": {},
   "outputs": [],
   "source": [
    "ModelToPandasDf(DEPOIMENTOS.objects.all()).head()"
   ]
  },
  {
   "cell_type": "code",
   "execution_count": null,
   "metadata": {},
   "outputs": [],
   "source": [
    "ModelToPandasDf(CONTATO.objects.all()).head()"
   ]
  }
 ],
 "metadata": {
  "hide_input": false,
  "kernelspec": {
   "display_name": "Django Shell-Plus",
   "language": "python",
   "name": "django_extensions"
  },
  "language_info": {
   "codemirror_mode": {
    "name": "ipython",
    "version": 3
   },
   "file_extension": ".py",
   "mimetype": "text/x-python",
   "name": "python",
   "nbconvert_exporter": "python",
   "pygments_lexer": "ipython3",
   "version": "3.7.1"
  }
 },
 "nbformat": 4,
 "nbformat_minor": 2
}
